{
 "cells": [
  {
   "cell_type": "markdown",
   "metadata": {},
   "source": [
    "# Applied Data Science Capstone\n",
    "Now that you have been equipped with the skills and the tools to use location data to explore a geographical location, over the course of two weeks, you will have the opportunity to be as creative as you want and come up with an idea to leverage the Foursquare location data to explore or compare neighborhoods or cities of your choice or to come up with a problem that you can use the Foursquare location data to solve. If you cannot think of an idea or a problem, here are some ideas to get you started:\n",
    "\n",
    "- In Module 3, we explored New York City and the city of Toronto and segmented and clustered their neighborhoods. Both cities are very diverse and are the financial capitals of their respective countries. One interesting idea would be to compare the neighborhoods of the two cities and determine how similar or dissimilar they are. Is New York City more like Toronto or Paris or some other multicultural city? I will leave it to you to refine this idea.\n",
    "- In a city of your choice, if someone is looking to open a restaurant, where would you recommend that they open it? Similarly, if a contractor is trying to start their own business, where would you recommend that they setup their office?\n",
    "\n",
    "These are just a couple of many ideas and problems that can be solved using location data in addition to other datasets. No matter what you decide to do, make sure to provide sufficient justification of why you think what you want to do or solve is important and why would a client or a group of people be interested in your project."
   ]
  },
  {
   "cell_type": "markdown",
   "metadata": {},
   "source": [
    "## Bussiness Problem \n",
    "\n",
    "Cities around the world provide different combination of cultural offers. Quite often those offers are clustered in different neighboors, i.e.: the theater neighborhood, the museum old town. One question for the new comer to a city is where to find neighboorhoods with a high concentration of cultural offers that will fit with his interest. \n",
    "\n",
    "Here we would like to approach several questions: \n",
    "\n",
    "- Is there a way to extract cultural information from foursquare? \n",
    "- Can information about cultural life can be extracted from tips? \n",
    "- Can neighborhoods be tagged with a cultural index? i.e. How many cultural places by km square? \n",
    "- Can neighborhoods be clusterized based in their cultural offer? \n",
    "- Is there any relation between clustering based in cultural offer \n",
    "\n",
    "\n",
    "We will examine the same question on different cities from different contries and sizes: \n",
    "\n",
    "- Minneapolis (EEUU)\n",
    "- Tokyo (Japan)\n",
    "- Lyon (France)\n",
    "- Lausanne (Suisse)\n",
    "- Málaga (Spain)"
   ]
  },
  {
   "cell_type": "markdown",
   "metadata": {},
   "source": [
    "## Data\n",
    "\n",
    "### Cultural Venues Data\n",
    "We can use the category `fun` in foursquare API to extract the cultural related venues from the different cities. The information about the neighborhoods will be obtained. \n",
    "\n",
    "### Postal Code Data \n",
    "I will extract the neighborhoods based in the location of the different zipcodes by city. In this database you can find the latitute and the longitude for this. https://github.com/Zeeshanahmad4/Zip-code-of-all-countries-cities-in-the-world-CSV-TXT-SQL-DATABASE\n",
    "\n",
    "### Cultural Index \n",
    "I will look for the postal code and scrap this webpage: https://postal-codes.cybo.com/switzerland/1001_lausanne/\n"
   ]
  },
  {
   "cell_type": "markdown",
   "metadata": {},
   "source": []
  }
 ],
 "metadata": {
  "kernelspec": {
   "display_name": "Python",
   "language": "python",
   "name": "conda-env-python-py"
  },
  "language_info": {
   "codemirror_mode": {
    "name": "ipython",
    "version": 3
   },
   "file_extension": ".py",
   "mimetype": "text/x-python",
   "name": "python",
   "nbconvert_exporter": "python",
   "pygments_lexer": "ipython3",
   "version": "3.6.11"
  }
 },
 "nbformat": 4,
 "nbformat_minor": 4
}
